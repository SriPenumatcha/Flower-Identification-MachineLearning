{
  "nbformat": 4,
  "nbformat_minor": 0,
  "metadata": {
    "colab": {
      "provenance": []
    },
    "kernelspec": {
      "name": "python3",
      "display_name": "Python 3"
    },
    "language_info": {
      "name": "python"
    }
  },
  "cells": [
    {
      "cell_type": "markdown",
      "source": [
        "# FlowerID Image Mapping\n"
      ],
      "metadata": {
        "id": "CHSW6cc9Rv5W"
      }
    },
    {
      "cell_type": "code",
      "source": [
        "# Import dependencies\n",
        "import pandas as pd\n",
        "import numpy as np\n",
        "import matplotlib.pyplot as plt\n",
        "import seaborn as sns\n",
        "import os\n",
        "from sklearn.datasets import load_files\n",
        "from sklearn.model_selection import train_test_split\n",
        "from sklearn.preprocessing import OneHotEncoder"
      ],
      "metadata": {
        "id": "OENJ11Q1P9P9"
      },
      "execution_count": null,
      "outputs": []
    },
    {
      "cell_type": "markdown",
      "source": [
        "## Get the total, available, and used memory of the system in a readable format like \"GB\" or \"MB\"."
      ],
      "metadata": {
        "id": "NsJHrTlgPuEY"
      }
    },
    {
      "cell_type": "code",
      "source": [
        "import psutil\n",
        "def get_size(bytes, suffix=\"B\"):\n",
        "    factor = 1024\n",
        "    for unit in [\"\", \"K\", \"M\", \"G\", \"T\", \"P\"]:\n",
        "        if bytes < factor:\n",
        "            return f\"{bytes:.2f}{unit}{suffix}\"\n",
        "        bytes /= factor\n",
        "print(\"=\"*40, \"Memory Info\", \"=\"*40)\n",
        "svmem = psutil.virtual_memory()\n",
        "print(f\"Total: {get_size(svmem.total)}\")\n",
        "print(f\"Available: {get_size(svmem.available)}\")\n",
        "print(f\"Used: {get_size(svmem.used)}\")"
      ],
      "metadata": {
        "colab": {
          "base_uri": "https://localhost:8080/"
        },
        "id": "IzDt3uMsL_dY",
        "outputId": "fe75219a-8eb8-42a6-bdde-29f6ec943d27"
      },
      "execution_count": null,
      "outputs": [
        {
          "output_type": "stream",
          "name": "stdout",
          "text": [
            "======================================== Memory Info ========================================\n",
            "Total: 12.67GB\n",
            "Available: 11.47GB\n",
            "Used: 906.18MB\n"
          ]
        }
      ]
    },
    {
      "cell_type": "code",
      "source": [
        "# Update the path to a local directory where the 'flowers' dataset is located\n",
        "#data_dir = '/Users/yashadakulkarni/Desktop/WORK/DataAnalyticsBootcamp/HOMEWORK/Flower-Identification-using-deep-learning/flowers'"
      ],
      "metadata": {
        "id": "i6n5f_TVP6Ap"
      },
      "execution_count": null,
      "outputs": []
    },
    {
      "cell_type": "markdown",
      "source": [
        "# Import & Load Data"
      ],
      "metadata": {
        "id": "Q7lv270TR5tj"
      }
    },
    {
      "cell_type": "code",
      "source": [
        "#Import Data\n",
        "import os\n",
        "import requests\n",
        "from zipfile import ZipFile\n",
        "from io import BytesIO\n",
        "from sklearn.datasets import load_files\n",
        "# Define the URL of the dataset\n",
        "url = 'https://github.com/SriPenumatcha/Flower-Identification-using-deep-learning/archive/refs/heads/main.zip'\n",
        "\n",
        "# Download the dataset\n",
        "response = requests.get(url)\n",
        "if response.status_code == 200:\n",
        "\n",
        "    # Extract the dataset\n",
        "    with ZipFile(BytesIO(response.content)) as zip_file:\n",
        "        zip_file.extractall('/tmp')\n",
        "\n",
        "# Path to the extracted dataset\n",
        "data_dir = '/tmp/Flower-Identification-using-deep-learning-main/flowers'\n",
        "\n",
        "# Load the data\n",
        "data = load_files(data_dir)"
      ],
      "metadata": {
        "id": "grhJlr6bQ0KJ"
      },
      "execution_count": null,
      "outputs": []
    },
    {
      "cell_type": "code",
      "source": [
        "# List the contents of the Folder\n",
        "folders = os.listdir(data_dir)\n",
        "print(folders)"
      ],
      "metadata": {
        "colab": {
          "base_uri": "https://localhost:8080/"
        },
        "id": "mWckWRdTRPmR",
        "outputId": "58d034a8-95ac-405d-949f-8a00dc0ec4d5"
      },
      "execution_count": null,
      "outputs": [
        {
          "output_type": "stream",
          "name": "stdout",
          "text": [
            "['daisy', 'sunflower', 'rose', 'tulip', 'dandelion']\n"
          ]
        }
      ]
    },
    {
      "cell_type": "markdown",
      "source": [
        "# DATA Processing and Exploration"
      ],
      "metadata": {
        "id": "ykBPLk5WQJzL"
      }
    },
    {
      "cell_type": "markdown",
      "source": [
        "# We have a folder for each flower class or type. Load this data into two NumPy arrays:\n",
        "\n",
        "- X: Filenames (features)\n",
        "- y: Flower names (target labels)"
      ],
      "metadata": {
        "id": "ijhSRNvySOl4"
      }
    },
    {
      "cell_type": "code",
      "source": [
        "X = np.array(data['filenames'])\n",
        "y = np.array(data['target'])\n",
        "labels = np.array(data['target_names'])\n",
        "\n",
        "# Arrays\n",
        "print('Data files - ',X)\n",
        "print('Target labels - ',y)"
      ],
      "metadata": {
        "colab": {
          "base_uri": "https://localhost:8080/"
        },
        "id": "zguDR3QGQBNl",
        "outputId": "f467fe6b-8b95-4aaf-b727-83b8dd85784e"
      },
      "execution_count": null,
      "outputs": [
        {
          "output_type": "stream",
          "name": "stdout",
          "text": [
            "Data files -  ['/tmp/Flower-Identification-using-deep-learning-main/flowers/sunflower/7176729016_d73ff2211e.jpg'\n",
            " '/tmp/Flower-Identification-using-deep-learning-main/flowers/dandelion/18385846351_3a2bf60427_n.jpg'\n",
            " '/tmp/Flower-Identification-using-deep-learning-main/flowers/dandelion/98992760_53ed1d26a9.jpg'\n",
            " ...\n",
            " '/tmp/Flower-Identification-using-deep-learning-main/flowers/dandelion/7184780734_3baab127c2_m.jpg'\n",
            " '/tmp/Flower-Identification-using-deep-learning-main/flowers/sunflower/10386540106_1431e73086_m.jpg'\n",
            " '/tmp/Flower-Identification-using-deep-learning-main/flowers/sunflower/164670176_9f5b9c7965.jpg']\n",
            "Target labels -  [3 1 1 ... 1 3 3]\n"
          ]
        }
      ]
    },
    {
      "cell_type": "code",
      "source": [
        "#Save the names of the imagefiles so they can be used later\n",
        "imagefile_names = data['filenames']\n",
        "print(imagefile_names)"
      ],
      "metadata": {
        "colab": {
          "base_uri": "https://localhost:8080/"
        },
        "id": "Sbnn8yn9sg-l",
        "outputId": "85036bb4-a4ee-41d1-fc22-8af03ff97e41"
      },
      "execution_count": null,
      "outputs": [
        {
          "output_type": "stream",
          "name": "stdout",
          "text": [
            "['/tmp/Flower-Identification-using-deep-learning-main/flowers/sunflower/7176729016_d73ff2211e.jpg'\n",
            " '/tmp/Flower-Identification-using-deep-learning-main/flowers/dandelion/18385846351_3a2bf60427_n.jpg'\n",
            " '/tmp/Flower-Identification-using-deep-learning-main/flowers/dandelion/98992760_53ed1d26a9.jpg'\n",
            " ...\n",
            " '/tmp/Flower-Identification-using-deep-learning-main/flowers/dandelion/7184780734_3baab127c2_m.jpg'\n",
            " '/tmp/Flower-Identification-using-deep-learning-main/flowers/sunflower/10386540106_1431e73086_m.jpg'\n",
            " '/tmp/Flower-Identification-using-deep-learning-main/flowers/sunflower/164670176_9f5b9c7965.jpg']\n"
          ]
        }
      ]
    },
    {
      "cell_type": "markdown",
      "source": [
        "The numbers in the **Target labels as [3 1 1 ... 1 3 3]** are corresponding to class label. We need to change them to a vector of 5 elements (5 classes)"
      ],
      "metadata": {
        "id": "Cu4u1Qd_TJTS"
      }
    },
    {
      "cell_type": "code",
      "source": [
        "import cv2"
      ],
      "metadata": {
        "id": "d7C6f24M0HhO"
      },
      "execution_count": null,
      "outputs": []
    },
    {
      "cell_type": "code",
      "source": [
        "print(X.shape)"
      ],
      "metadata": {
        "colab": {
          "base_uri": "https://localhost:8080/"
        },
        "id": "rGX8t9dH4O9B",
        "outputId": "3e2ae9fe-25bd-4673-9580-8e306bb78f4f"
      },
      "execution_count": null,
      "outputs": [
        {
          "output_type": "stream",
          "name": "stdout",
          "text": [
            "(4317,)\n"
          ]
        }
      ]
    },
    {
      "cell_type": "code",
      "source": [
        "from keras.preprocessing.image import img_to_array\n",
        "#from tensorflow.keras.preprocessing.image import img_to_array, load_img\n",
        "data = []\n",
        "target_labels = []\n",
        "img_gray = []\n",
        "\n",
        "# Iterate over the folders in the root directory\n",
        "for folder_name in os.listdir(data_dir):\n",
        "    folder_path = os.path.join(data_dir, folder_name)\n",
        "\n",
        "    # Iterate over the images in each folder\n",
        "    for img_name in os.listdir(folder_path):\n",
        "        img_path = os.path.join(folder_path, img_name)\n",
        "\n",
        "        # Load the image using OpenCV (cv2)\n",
        "        img = cv2.imread(img_path, cv2.IMREAD_COLOR)\n",
        "        r, g, b = img[:, :, 0], img[:, :, 1], img[:, :, 2]\n",
        "        img_grayscale = 0.2989 * r + 0.5870 * g + 0.1140 * b\n",
        "\n",
        "        # Convert RGB image to grayscale\n",
        "        #img_grayscale = img.convert('L')\n",
        "\n",
        "        # Append the image data and target label to the lists\n",
        "        data.append(img)\n",
        "        target_labels.append(folder_name)\n",
        "        img_gray.append(img_grayscale)\n",
        "\n",
        "\n",
        "# Create a DataFrame\n",
        "df = pd.DataFrame({'image_data': data, 'grayscale_data': img_gray, 'target_label': target_labels, 'image_filename': imagefile_names})\n",
        "\n",
        "# Shuffle the DataFrame\n",
        "#df = df.sample(frac=1).reset_index(drop=True)\n",
        "\n",
        "# Split the data into training and testing sets\n",
        "#train_data = df.iloc[:int(0.8*len(df))]\n",
        "#test_data = df.iloc[int(0.8*len(df)):]\n"
      ],
      "metadata": {
        "id": "H40nKjvG0T9U"
      },
      "execution_count": null,
      "outputs": []
    },
    {
      "cell_type": "code",
      "source": [
        "df.head()"
      ],
      "metadata": {
        "colab": {
          "base_uri": "https://localhost:8080/",
          "height": 206
        },
        "id": "cI57hQqq0vrc",
        "outputId": "69f1bca8-581f-45b5-a6a5-aeb6de71faba"
      },
      "execution_count": null,
      "outputs": [
        {
          "output_type": "execute_result",
          "data": {
            "text/plain": [
              "                                          image_data  \\\n",
              "0  [[[83, 44, 0], [83, 44, 0], [83, 44, 0], [83, ...   \n",
              "1  [[[31, 0, 1], [31, 1, 0], [32, 3, 0], [32, 3, ...   \n",
              "2  [[[217, 240, 236], [226, 236, 236], [233, 234,...   \n",
              "3  [[[0, 0, 0], [0, 0, 0], [0, 0, 0], [0, 0, 0], ...   \n",
              "4  [[[40, 27, 13], [107, 82, 2], [115, 68, 6], [1...   \n",
              "\n",
              "                                      grayscale_data target_label  \\\n",
              "0  [[50.6367, 50.6367, 50.6367, 50.6367, 50.6367,...        daisy   \n",
              "1  [[9.379900000000001, 9.8529, 11.3258, 11.3258,...        daisy   \n",
              "2  [[232.6453, 232.98739999999998, 234.1337, 231....        daisy   \n",
              "3  [[0.0, 0.0, 0.0, 0.0, 0.0, 0.0, 0.0, 0.0, 0.0,...        daisy   \n",
              "4  [[29.287, 80.34429999999999, 74.9735, 74.126, ...        daisy   \n",
              "\n",
              "                                      image_filename  \n",
              "0  /tmp/Flower-Identification-using-deep-learning...  \n",
              "1  /tmp/Flower-Identification-using-deep-learning...  \n",
              "2  /tmp/Flower-Identification-using-deep-learning...  \n",
              "3  /tmp/Flower-Identification-using-deep-learning...  \n",
              "4  /tmp/Flower-Identification-using-deep-learning...  "
            ],
            "text/html": [
              "\n",
              "  <div id=\"df-afea4e1d-5f1c-481c-b76c-8ceaa673e797\" class=\"colab-df-container\">\n",
              "    <div>\n",
              "<style scoped>\n",
              "    .dataframe tbody tr th:only-of-type {\n",
              "        vertical-align: middle;\n",
              "    }\n",
              "\n",
              "    .dataframe tbody tr th {\n",
              "        vertical-align: top;\n",
              "    }\n",
              "\n",
              "    .dataframe thead th {\n",
              "        text-align: right;\n",
              "    }\n",
              "</style>\n",
              "<table border=\"1\" class=\"dataframe\">\n",
              "  <thead>\n",
              "    <tr style=\"text-align: right;\">\n",
              "      <th></th>\n",
              "      <th>image_data</th>\n",
              "      <th>grayscale_data</th>\n",
              "      <th>target_label</th>\n",
              "      <th>image_filename</th>\n",
              "    </tr>\n",
              "  </thead>\n",
              "  <tbody>\n",
              "    <tr>\n",
              "      <th>0</th>\n",
              "      <td>[[[83, 44, 0], [83, 44, 0], [83, 44, 0], [83, ...</td>\n",
              "      <td>[[50.6367, 50.6367, 50.6367, 50.6367, 50.6367,...</td>\n",
              "      <td>daisy</td>\n",
              "      <td>/tmp/Flower-Identification-using-deep-learning...</td>\n",
              "    </tr>\n",
              "    <tr>\n",
              "      <th>1</th>\n",
              "      <td>[[[31, 0, 1], [31, 1, 0], [32, 3, 0], [32, 3, ...</td>\n",
              "      <td>[[9.379900000000001, 9.8529, 11.3258, 11.3258,...</td>\n",
              "      <td>daisy</td>\n",
              "      <td>/tmp/Flower-Identification-using-deep-learning...</td>\n",
              "    </tr>\n",
              "    <tr>\n",
              "      <th>2</th>\n",
              "      <td>[[[217, 240, 236], [226, 236, 236], [233, 234,...</td>\n",
              "      <td>[[232.6453, 232.98739999999998, 234.1337, 231....</td>\n",
              "      <td>daisy</td>\n",
              "      <td>/tmp/Flower-Identification-using-deep-learning...</td>\n",
              "    </tr>\n",
              "    <tr>\n",
              "      <th>3</th>\n",
              "      <td>[[[0, 0, 0], [0, 0, 0], [0, 0, 0], [0, 0, 0], ...</td>\n",
              "      <td>[[0.0, 0.0, 0.0, 0.0, 0.0, 0.0, 0.0, 0.0, 0.0,...</td>\n",
              "      <td>daisy</td>\n",
              "      <td>/tmp/Flower-Identification-using-deep-learning...</td>\n",
              "    </tr>\n",
              "    <tr>\n",
              "      <th>4</th>\n",
              "      <td>[[[40, 27, 13], [107, 82, 2], [115, 68, 6], [1...</td>\n",
              "      <td>[[29.287, 80.34429999999999, 74.9735, 74.126, ...</td>\n",
              "      <td>daisy</td>\n",
              "      <td>/tmp/Flower-Identification-using-deep-learning...</td>\n",
              "    </tr>\n",
              "  </tbody>\n",
              "</table>\n",
              "</div>\n",
              "    <div class=\"colab-df-buttons\">\n",
              "\n",
              "  <div class=\"colab-df-container\">\n",
              "    <button class=\"colab-df-convert\" onclick=\"convertToInteractive('df-afea4e1d-5f1c-481c-b76c-8ceaa673e797')\"\n",
              "            title=\"Convert this dataframe to an interactive table.\"\n",
              "            style=\"display:none;\">\n",
              "\n",
              "  <svg xmlns=\"http://www.w3.org/2000/svg\" height=\"24px\" viewBox=\"0 -960 960 960\">\n",
              "    <path d=\"M120-120v-720h720v720H120Zm60-500h600v-160H180v160Zm220 220h160v-160H400v160Zm0 220h160v-160H400v160ZM180-400h160v-160H180v160Zm440 0h160v-160H620v160ZM180-180h160v-160H180v160Zm440 0h160v-160H620v160Z\"/>\n",
              "  </svg>\n",
              "    </button>\n",
              "\n",
              "  <style>\n",
              "    .colab-df-container {\n",
              "      display:flex;\n",
              "      gap: 12px;\n",
              "    }\n",
              "\n",
              "    .colab-df-convert {\n",
              "      background-color: #E8F0FE;\n",
              "      border: none;\n",
              "      border-radius: 50%;\n",
              "      cursor: pointer;\n",
              "      display: none;\n",
              "      fill: #1967D2;\n",
              "      height: 32px;\n",
              "      padding: 0 0 0 0;\n",
              "      width: 32px;\n",
              "    }\n",
              "\n",
              "    .colab-df-convert:hover {\n",
              "      background-color: #E2EBFA;\n",
              "      box-shadow: 0px 1px 2px rgba(60, 64, 67, 0.3), 0px 1px 3px 1px rgba(60, 64, 67, 0.15);\n",
              "      fill: #174EA6;\n",
              "    }\n",
              "\n",
              "    .colab-df-buttons div {\n",
              "      margin-bottom: 4px;\n",
              "    }\n",
              "\n",
              "    [theme=dark] .colab-df-convert {\n",
              "      background-color: #3B4455;\n",
              "      fill: #D2E3FC;\n",
              "    }\n",
              "\n",
              "    [theme=dark] .colab-df-convert:hover {\n",
              "      background-color: #434B5C;\n",
              "      box-shadow: 0px 1px 3px 1px rgba(0, 0, 0, 0.15);\n",
              "      filter: drop-shadow(0px 1px 2px rgba(0, 0, 0, 0.3));\n",
              "      fill: #FFFFFF;\n",
              "    }\n",
              "  </style>\n",
              "\n",
              "    <script>\n",
              "      const buttonEl =\n",
              "        document.querySelector('#df-afea4e1d-5f1c-481c-b76c-8ceaa673e797 button.colab-df-convert');\n",
              "      buttonEl.style.display =\n",
              "        google.colab.kernel.accessAllowed ? 'block' : 'none';\n",
              "\n",
              "      async function convertToInteractive(key) {\n",
              "        const element = document.querySelector('#df-afea4e1d-5f1c-481c-b76c-8ceaa673e797');\n",
              "        const dataTable =\n",
              "          await google.colab.kernel.invokeFunction('convertToInteractive',\n",
              "                                                    [key], {});\n",
              "        if (!dataTable) return;\n",
              "\n",
              "        const docLinkHtml = 'Like what you see? Visit the ' +\n",
              "          '<a target=\"_blank\" href=https://colab.research.google.com/notebooks/data_table.ipynb>data table notebook</a>'\n",
              "          + ' to learn more about interactive tables.';\n",
              "        element.innerHTML = '';\n",
              "        dataTable['output_type'] = 'display_data';\n",
              "        await google.colab.output.renderOutput(dataTable, element);\n",
              "        const docLink = document.createElement('div');\n",
              "        docLink.innerHTML = docLinkHtml;\n",
              "        element.appendChild(docLink);\n",
              "      }\n",
              "    </script>\n",
              "  </div>\n",
              "\n",
              "\n",
              "<div id=\"df-e65cb257-a15b-4cda-816b-edce51ebb394\">\n",
              "  <button class=\"colab-df-quickchart\" onclick=\"quickchart('df-e65cb257-a15b-4cda-816b-edce51ebb394')\"\n",
              "            title=\"Suggest charts\"\n",
              "            style=\"display:none;\">\n",
              "\n",
              "<svg xmlns=\"http://www.w3.org/2000/svg\" height=\"24px\"viewBox=\"0 0 24 24\"\n",
              "     width=\"24px\">\n",
              "    <g>\n",
              "        <path d=\"M19 3H5c-1.1 0-2 .9-2 2v14c0 1.1.9 2 2 2h14c1.1 0 2-.9 2-2V5c0-1.1-.9-2-2-2zM9 17H7v-7h2v7zm4 0h-2V7h2v10zm4 0h-2v-4h2v4z\"/>\n",
              "    </g>\n",
              "</svg>\n",
              "  </button>\n",
              "\n",
              "<style>\n",
              "  .colab-df-quickchart {\n",
              "      --bg-color: #E8F0FE;\n",
              "      --fill-color: #1967D2;\n",
              "      --hover-bg-color: #E2EBFA;\n",
              "      --hover-fill-color: #174EA6;\n",
              "      --disabled-fill-color: #AAA;\n",
              "      --disabled-bg-color: #DDD;\n",
              "  }\n",
              "\n",
              "  [theme=dark] .colab-df-quickchart {\n",
              "      --bg-color: #3B4455;\n",
              "      --fill-color: #D2E3FC;\n",
              "      --hover-bg-color: #434B5C;\n",
              "      --hover-fill-color: #FFFFFF;\n",
              "      --disabled-bg-color: #3B4455;\n",
              "      --disabled-fill-color: #666;\n",
              "  }\n",
              "\n",
              "  .colab-df-quickchart {\n",
              "    background-color: var(--bg-color);\n",
              "    border: none;\n",
              "    border-radius: 50%;\n",
              "    cursor: pointer;\n",
              "    display: none;\n",
              "    fill: var(--fill-color);\n",
              "    height: 32px;\n",
              "    padding: 0;\n",
              "    width: 32px;\n",
              "  }\n",
              "\n",
              "  .colab-df-quickchart:hover {\n",
              "    background-color: var(--hover-bg-color);\n",
              "    box-shadow: 0 1px 2px rgba(60, 64, 67, 0.3), 0 1px 3px 1px rgba(60, 64, 67, 0.15);\n",
              "    fill: var(--button-hover-fill-color);\n",
              "  }\n",
              "\n",
              "  .colab-df-quickchart-complete:disabled,\n",
              "  .colab-df-quickchart-complete:disabled:hover {\n",
              "    background-color: var(--disabled-bg-color);\n",
              "    fill: var(--disabled-fill-color);\n",
              "    box-shadow: none;\n",
              "  }\n",
              "\n",
              "  .colab-df-spinner {\n",
              "    border: 2px solid var(--fill-color);\n",
              "    border-color: transparent;\n",
              "    border-bottom-color: var(--fill-color);\n",
              "    animation:\n",
              "      spin 1s steps(1) infinite;\n",
              "  }\n",
              "\n",
              "  @keyframes spin {\n",
              "    0% {\n",
              "      border-color: transparent;\n",
              "      border-bottom-color: var(--fill-color);\n",
              "      border-left-color: var(--fill-color);\n",
              "    }\n",
              "    20% {\n",
              "      border-color: transparent;\n",
              "      border-left-color: var(--fill-color);\n",
              "      border-top-color: var(--fill-color);\n",
              "    }\n",
              "    30% {\n",
              "      border-color: transparent;\n",
              "      border-left-color: var(--fill-color);\n",
              "      border-top-color: var(--fill-color);\n",
              "      border-right-color: var(--fill-color);\n",
              "    }\n",
              "    40% {\n",
              "      border-color: transparent;\n",
              "      border-right-color: var(--fill-color);\n",
              "      border-top-color: var(--fill-color);\n",
              "    }\n",
              "    60% {\n",
              "      border-color: transparent;\n",
              "      border-right-color: var(--fill-color);\n",
              "    }\n",
              "    80% {\n",
              "      border-color: transparent;\n",
              "      border-right-color: var(--fill-color);\n",
              "      border-bottom-color: var(--fill-color);\n",
              "    }\n",
              "    90% {\n",
              "      border-color: transparent;\n",
              "      border-bottom-color: var(--fill-color);\n",
              "    }\n",
              "  }\n",
              "</style>\n",
              "\n",
              "  <script>\n",
              "    async function quickchart(key) {\n",
              "      const quickchartButtonEl =\n",
              "        document.querySelector('#' + key + ' button');\n",
              "      quickchartButtonEl.disabled = true;  // To prevent multiple clicks.\n",
              "      quickchartButtonEl.classList.add('colab-df-spinner');\n",
              "      try {\n",
              "        const charts = await google.colab.kernel.invokeFunction(\n",
              "            'suggestCharts', [key], {});\n",
              "      } catch (error) {\n",
              "        console.error('Error during call to suggestCharts:', error);\n",
              "      }\n",
              "      quickchartButtonEl.classList.remove('colab-df-spinner');\n",
              "      quickchartButtonEl.classList.add('colab-df-quickchart-complete');\n",
              "    }\n",
              "    (() => {\n",
              "      let quickchartButtonEl =\n",
              "        document.querySelector('#df-e65cb257-a15b-4cda-816b-edce51ebb394 button');\n",
              "      quickchartButtonEl.style.display =\n",
              "        google.colab.kernel.accessAllowed ? 'block' : 'none';\n",
              "    })();\n",
              "  </script>\n",
              "</div>\n",
              "\n",
              "    </div>\n",
              "  </div>\n"
            ],
            "application/vnd.google.colaboratory.intrinsic+json": {
              "type": "dataframe",
              "variable_name": "df",
              "summary": "{\n  \"name\": \"df\",\n  \"rows\": 4317,\n  \"fields\": [\n    {\n      \"column\": \"image_data\",\n      \"properties\": {\n        \"dtype\": \"object\",\n        \"semantic_type\": \"\",\n        \"description\": \"\"\n      }\n    },\n    {\n      \"column\": \"grayscale_data\",\n      \"properties\": {\n        \"dtype\": \"object\",\n        \"semantic_type\": \"\",\n        \"description\": \"\"\n      }\n    },\n    {\n      \"column\": \"target_label\",\n      \"properties\": {\n        \"dtype\": \"category\",\n        \"num_unique_values\": 5,\n        \"samples\": [\n          \"sunflower\",\n          \"dandelion\",\n          \"rose\"\n        ],\n        \"semantic_type\": \"\",\n        \"description\": \"\"\n      }\n    },\n    {\n      \"column\": \"image_filename\",\n      \"properties\": {\n        \"dtype\": \"string\",\n        \"num_unique_values\": 4317,\n        \"samples\": [\n          \"/tmp/Flower-Identification-using-deep-learning-main/flowers/dandelion/461632542_0387557eff.jpg\",\n          \"/tmp/Flower-Identification-using-deep-learning-main/flowers/dandelion/6104442744_ee2bcd32e7_n.jpg\",\n          \"/tmp/Flower-Identification-using-deep-learning-main/flowers/dandelion/33857574164_b0b724b567_n.jpg\"\n        ],\n        \"semantic_type\": \"\",\n        \"description\": \"\"\n      }\n    }\n  ]\n}"
            }
          },
          "metadata": {},
          "execution_count": 21
        }
      ]
    },
    {
      "cell_type": "code",
      "source": [
        "df.columns"
      ],
      "metadata": {
        "colab": {
          "base_uri": "https://localhost:8080/"
        },
        "id": "82--k7CA-Tmb",
        "outputId": "085baf16-26f4-461d-e9f7-a9d8d5f9df5a"
      },
      "execution_count": null,
      "outputs": [
        {
          "output_type": "execute_result",
          "data": {
            "text/plain": [
              "Index(['image_data', 'grayscale_data', 'target_label', 'image_filename'], dtype='object')"
            ]
          },
          "metadata": {},
          "execution_count": 22
        }
      ]
    },
    {
      "cell_type": "code",
      "source": [
        "df.to_csv(\"FlowerID2.csv\")\n",
        "#converting to csv spoils the image data column. Let us check if the column is correct in the df:\n",
        "\n"
      ],
      "metadata": {
        "id": "7pkcDRUt8acy"
      },
      "execution_count": null,
      "outputs": []
    },
    {
      "cell_type": "code",
      "source": [
        "df[\"image_data\"].head()\n",
        "#It's massive! As it should be..."
      ],
      "metadata": {
        "id": "fVDM7_kvBFMo"
      },
      "execution_count": null,
      "outputs": []
    },
    {
      "cell_type": "code",
      "source": [
        "df[\"grayscale_data\"].head()"
      ],
      "metadata": {
        "id": "7nAjnJG9Bp68"
      },
      "execution_count": null,
      "outputs": []
    },
    {
      "cell_type": "code",
      "source": [
        "#Done till above cell. More to follow."
      ],
      "metadata": {
        "id": "q7N7p7steGyM"
      },
      "execution_count": null,
      "outputs": []
    },
    {
      "cell_type": "markdown",
      "source": [
        "## Use OneHotEncoder to convert to categorical data"
      ],
      "metadata": {
        "id": "ko08EBmmXA1e"
      }
    },
    {
      "cell_type": "code",
      "source": [
        "# Initialize OneHotEncoder\n",
        "encoder = OneHotEncoder(sparse=False)"
      ],
      "metadata": {
        "id": "w5dHng1vQKa6"
      },
      "execution_count": null,
      "outputs": []
    },
    {
      "cell_type": "code",
      "source": [
        "# Reshape y to a 2D array\n",
        "y_reshaped = y.reshape(-1, 1)"
      ],
      "metadata": {
        "id": "RLaX16Q8TvDz"
      },
      "execution_count": null,
      "outputs": []
    },
    {
      "cell_type": "code",
      "source": [
        "# Perform one-hot encoding\n",
        "y_onehot = encoder.fit_transform(y_reshaped)"
      ],
      "metadata": {
        "colab": {
          "base_uri": "https://localhost:8080/"
        },
        "id": "QsBMTbfOUJVJ",
        "outputId": "d70fe14e-a501-4cc9-8c20-6af79a5423a1"
      },
      "execution_count": null,
      "outputs": [
        {
          "output_type": "stream",
          "name": "stderr",
          "text": [
            "/usr/local/lib/python3.10/dist-packages/sklearn/preprocessing/_encoders.py:975: FutureWarning: `sparse` was renamed to `sparse_output` in version 1.2 and will be removed in 1.4. `sparse_output` is ignored unless you leave `sparse` to its default value.\n",
            "  warnings.warn(\n"
          ]
        }
      ]
    },
    {
      "cell_type": "code",
      "source": [
        "# Display the one-hot encoded target labels\n",
        "print('One-hot encoded target labels:')\n",
        "print(y_onehot)"
      ],
      "metadata": {
        "colab": {
          "base_uri": "https://localhost:8080/"
        },
        "id": "vKTKXCXzUNfA",
        "outputId": "5cae39bb-db4c-4441-ce50-0f7a2d65c363"
      },
      "execution_count": null,
      "outputs": [
        {
          "output_type": "stream",
          "name": "stdout",
          "text": [
            "One-hot encoded target labels:\n",
            "[[0. 0. 0. 1. 0.]\n",
            " [0. 1. 0. 0. 0.]\n",
            " [0. 1. 0. 0. 0.]\n",
            " ...\n",
            " [0. 1. 0. 0. 0.]\n",
            " [0. 0. 0. 1. 0.]\n",
            " [0. 0. 0. 1. 0.]]\n"
          ]
        }
      ]
    },
    {
      "cell_type": "markdown",
      "source": [
        "Removing the .pyc or .py files from X and y:\n",
        "This loop iterates over the positions of .pyc or .py files found in the previous step.\n",
        "np.delete(X, pos) removes the elements at the specified positions from the array X.\n",
        "Similarly, np.delete(y, pos) removes the corresponding elements from the array y."
      ],
      "metadata": {
        "id": "YsNdBO5RUVdr"
      }
    },
    {
      "cell_type": "code",
      "source": [
        "# Find positions of .pyc or .py files in X\n",
        "pos = [i for i, filename in enumerate(X) if filename.endswith('.pyc') or filename.endswith('.py')]\n",
        "\n",
        "# Remove elements at the specified positions from X and y\n",
        "X = np.delete(X, pos)\n",
        "y = np.delete(y, pos)\n",
        "\n",
        "# Verify the updated X and y arrays\n",
        "print('Updated Data files - ', X)\n",
        "print('Updated Target labels - ', y)"
      ],
      "metadata": {
        "colab": {
          "base_uri": "https://localhost:8080/"
        },
        "id": "KHqUzBEhUWjt",
        "outputId": "75862b70-dee0-4db1-e395-5ace5c2bfd03"
      },
      "execution_count": null,
      "outputs": [
        {
          "output_type": "stream",
          "name": "stdout",
          "text": [
            "Updated Data files -  ['/tmp/Flower-Identification-using-deep-learning-main/flowers/sunflower/7176729016_d73ff2211e.jpg'\n",
            " '/tmp/Flower-Identification-using-deep-learning-main/flowers/dandelion/18385846351_3a2bf60427_n.jpg'\n",
            " '/tmp/Flower-Identification-using-deep-learning-main/flowers/dandelion/98992760_53ed1d26a9.jpg'\n",
            " ...\n",
            " '/tmp/Flower-Identification-using-deep-learning-main/flowers/dandelion/7184780734_3baab127c2_m.jpg'\n",
            " '/tmp/Flower-Identification-using-deep-learning-main/flowers/sunflower/10386540106_1431e73086_m.jpg'\n",
            " '/tmp/Flower-Identification-using-deep-learning-main/flowers/sunflower/164670176_9f5b9c7965.jpg']\n",
            "Updated Target labels -  [3 1 1 ... 1 3 3]\n"
          ]
        }
      ]
    },
    {
      "cell_type": "code",
      "source": [
        "# rescale the training data\n",
        "X = X.astype('float32')/255\n",
        "# Confirming number of class\n",
        "num_classes = len(np.unique(y))\n",
        "print('Number of classes : ', num_classes)"
      ],
      "metadata": {
        "colab": {
          "base_uri": "https://localhost:8080/"
        },
        "id": "gaHM-_4-VZhb",
        "outputId": "dc7f445f-7a91-4736-f708-5c2e715e0aba"
      },
      "execution_count": null,
      "outputs": [
        {
          "output_type": "stream",
          "name": "stdout",
          "text": [
            "Number of classes :  5\n"
          ]
        }
      ]
    },
    {
      "cell_type": "code",
      "source": [
        "y"
      ],
      "metadata": {
        "colab": {
          "base_uri": "https://localhost:8080/"
        },
        "id": "Qn1RHhxQVbnV",
        "outputId": "dc40f6b8-2089-4ffd-f072-35ca91d9859a"
      },
      "execution_count": null,
      "outputs": [
        {
          "output_type": "execute_result",
          "data": {
            "text/plain": [
              "array([3, 1, 1, ..., 1, 3, 3])"
            ]
          },
          "metadata": {},
          "execution_count": 20
        }
      ]
    },
    {
      "cell_type": "code",
      "source": [
        "from keras.utils import to_categorical\n",
        "y = to_categorical(y)\n",
        "y[0]"
      ],
      "metadata": {
        "colab": {
          "base_uri": "https://localhost:8080/"
        },
        "id": "hTlk_cT5VcKW",
        "outputId": "98f2b4f6-cd3e-4a04-afef-3fa449b4d4f9"
      },
      "execution_count": null,
      "outputs": [
        {
          "output_type": "execute_result",
          "data": {
            "text/plain": [
              "array([0., 0., 0., 1., 0.])"
            ]
          },
          "metadata": {},
          "execution_count": 21
        }
      ]
    },
    {
      "cell_type": "code",
      "source": [
        "from sklearn.model_selection import train_test_split\n",
        "# split the data into subsets and explore their shapes\n",
        "X_train, X_test, y_train, y_test = train_test_split(X,y,test_size=0.2)\n",
        "print('The test Data Shape ', X_test.shape[0])\n",
        "X_test, X_valid, y_test, y_valid = train_test_split(X_test,y_test, test_size = 0.5)\n",
        "print('The training Data Shape ', X_valid.shape[0])"
      ],
      "metadata": {
        "colab": {
          "base_uri": "https://localhost:8080/"
        },
        "id": "umaHkoCZVh_L",
        "outputId": "b23e62fb-6794-4495-bbfd-9ecd8e872768"
      },
      "execution_count": null,
      "outputs": [
        {
          "output_type": "stream",
          "name": "stdout",
          "text": [
            "The test Data Shape  864\n",
            "The training Data Shape  432\n"
          ]
        }
      ]
    },
    {
      "cell_type": "code",
      "source": [
        "print('The train Data Shape ', X_train.shape[1:])"
      ],
      "metadata": {
        "colab": {
          "base_uri": "https://localhost:8080/"
        },
        "id": "7Xt3IA3zVl5U",
        "outputId": "736fe9f9-02e4-4d8f-8e90-166b610b1ccb"
      },
      "execution_count": null,
      "outputs": [
        {
          "output_type": "stream",
          "name": "stdout",
          "text": [
            "The train Data Shape  (150, 150, 3)\n"
          ]
        }
      ]
    },
    {
      "cell_type": "code",
      "source": [
        "# Check the shape of X_train (input data) and X_test\n",
        "print(\"Shape of X_train (input data):\", X_train.shape)\n",
        "print(\"Shape of X_test (input data):\", X_test.shape)"
      ],
      "metadata": {
        "colab": {
          "base_uri": "https://localhost:8080/"
        },
        "id": "kTNmAXCtVpAb",
        "outputId": "3238d29b-06f7-4e44-b980-b405ab0e2904"
      },
      "execution_count": null,
      "outputs": [
        {
          "output_type": "stream",
          "name": "stdout",
          "text": [
            "Shape of X_train (input data): (3453, 150, 150, 3)\n",
            "Shape of X_test (input data): (432, 150, 150, 3)\n"
          ]
        }
      ]
    },
    {
      "cell_type": "code",
      "source": [
        "# Use grayscale images"
      ],
      "metadata": {
        "id": "dVyUwQsrV1ES"
      },
      "execution_count": null,
      "outputs": []
    },
    {
      "cell_type": "code",
      "source": [
        "# Check the shape of y_train (target labels) and y_test\n",
        "print(\"Shape of y_train (target labels):\", y_train.shape)\n",
        "print(\"Shape of y_test (target labels):\", y_test.shape)"
      ],
      "metadata": {
        "colab": {
          "base_uri": "https://localhost:8080/"
        },
        "id": "yE5fSiZvV4Op",
        "outputId": "76bc1e5e-8eda-4da0-c0de-7a12569711de"
      },
      "execution_count": null,
      "outputs": [
        {
          "output_type": "stream",
          "name": "stdout",
          "text": [
            "Shape of y_train (target labels): (3453, 5)\n",
            "Shape of y_test (target labels): (432, 5)\n"
          ]
        }
      ]
    }
  ]
}